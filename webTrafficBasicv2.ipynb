{
 "cells": [
  {
   "cell_type": "markdown",
   "metadata": {},
   "source": [
    "<h1>Simple Web Traffic Forecasting</h1>"
   ]
  },
  {
   "cell_type": "markdown",
   "metadata": {},
   "source": [
    "<h3>Import libraries</h3>"
   ]
  },
  {
   "cell_type": "code",
   "execution_count": 1,
   "metadata": {},
   "outputs": [],
   "source": [
    "import numpy as np\n",
    "import pandas as pd"
   ]
  },
  {
   "cell_type": "markdown",
   "metadata": {},
   "source": [
    "<h3>Read data into memory</h3>"
   ]
  },
  {
   "cell_type": "code",
   "execution_count": 2,
   "metadata": {},
   "outputs": [
    {
     "name": "stdout",
     "output_type": "stream",
     "text": [
      "Reading data...\n"
     ]
    }
   ],
   "source": [
    "print('Reading data...')\n",
    "key_1 = pd.read_csv('C:/Users/matth/webtraffic/key_1.csv')\n",
    "train_1 = pd.read_csv('C:/Users/matth/webtraffic/train_1.csv')\n",
    "ss_1 = pd.read_csv('C:/Users/matth/webtraffic/sample_submission_1.csv')"
   ]
  },
  {
   "cell_type": "markdown",
   "metadata": {},
   "source": [
    "<h3>Create list of Ids and Pages from key_1 dataframe</h3>"
   ]
  },
  {
   "cell_type": "code",
   "execution_count": 3,
   "metadata": {},
   "outputs": [
    {
     "name": "stdout",
     "output_type": "stream",
     "text": [
      "Processing...\n"
     ]
    }
   ],
   "source": [
    "print('Processing...')\n",
    "ids = key_1.Id.values\n",
    "pages = key_1.Page.values"
   ]
  },
  {
   "cell_type": "markdown",
   "metadata": {},
   "source": [
    "<h3>Create dictionary of page ids and page name minus the date, the last 11 characters</h3>"
   ]
  },
  {
   "cell_type": "code",
   "execution_count": 4,
   "metadata": {},
   "outputs": [
    {
     "name": "stdout",
     "output_type": "stream",
     "text": [
      "key_1...\n"
     ]
    }
   ],
   "source": [
    "print('key_1...')\n",
    "d_pages = {}\n",
    "for id, page in zip(ids, pages):\n",
    "    d_pages[id] = page[:-11]"
   ]
  },
  {
   "cell_type": "markdown",
   "metadata": {},
   "source": [
    "<h3>Create dictionary a list of Page names from train_1 dataframe, calculate the median of the past 56 days page visits, ignoring NaN</h3>"
   ]
  },
  {
   "cell_type": "code",
   "execution_count": 5,
   "metadata": {},
   "outputs": [
    {
     "name": "stderr",
     "output_type": "stream",
     "text": [
      "C:\\Users\\matth\\Anaconda3\\lib\\site-packages\\numpy\\lib\\function_base.py:3250: RuntimeWarning: All-NaN slice encountered\n",
      "  r = func(a, **kwargs)\n"
     ]
    }
   ],
   "source": [
    "pages = train_1.Page.values\n",
    "visits = np.nan_to_num(np.round(np.nanmedian(train_1.drop('Page', axis=1).values[:, -56:], axis=1)))"
   ]
  },
  {
   "cell_type": "markdown",
   "metadata": {},
   "source": [
    "<h3>Create dictionary of pages with median number of visits for last 56 days</h3>"
   ]
  },
  {
   "cell_type": "code",
   "execution_count": 6,
   "metadata": {},
   "outputs": [],
   "source": [
    "d_visits = {}\n",
    "for page, visits_number in zip(pages, visits):\n",
    "    d_visits[page] = visits_number"
   ]
  },
  {
   "cell_type": "markdown",
   "metadata": {},
   "source": [
    "<h3>Using the above dictionary modify loaded submission file and save</h3>"
   ]
  },
  {
   "cell_type": "code",
   "execution_count": 8,
   "metadata": {},
   "outputs": [
    {
     "name": "stdout",
     "output_type": "stream",
     "text": [
      "Modifying sample submission...\n",
      "Saving submission...\n"
     ]
    }
   ],
   "source": [
    "#Modify sample submission with the predicted number of visits\n",
    "print('Modifying sample submission...')\n",
    "ss_ids = ss_1.Id.values\n",
    "ss_visits = ss_1.Visits.values\n",
    "\n",
    "for i, ss_id in enumerate(ss_ids):\n",
    "    ss_visits[i] = d_visits[d_pages[ss_id]]\n",
    "\n",
    "print('Saving submission...')\n",
    "#Create dataframe for ids and number of predicted visits from sample submission file\n",
    "subm = pd.DataFrame({'Id': ss_ids, 'Visits': ss_visits})\n",
    "#Create submission CSV file\n",
    "subm.to_csv('C:/Users/matth/submission.csv', index=False)"
   ]
  },
  {
   "cell_type": "code",
   "execution_count": null,
   "metadata": {},
   "outputs": [],
   "source": []
  }
 ],
 "metadata": {
  "kernelspec": {
   "display_name": "Python 3",
   "language": "python",
   "name": "python3"
  },
  "language_info": {
   "codemirror_mode": {
    "name": "ipython",
    "version": 3
   },
   "file_extension": ".py",
   "mimetype": "text/x-python",
   "name": "python",
   "nbconvert_exporter": "python",
   "pygments_lexer": "ipython3",
   "version": "3.6.6"
  }
 },
 "nbformat": 4,
 "nbformat_minor": 2
}
